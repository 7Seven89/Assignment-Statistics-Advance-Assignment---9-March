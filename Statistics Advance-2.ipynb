{
 "cells": [
  {
   "cell_type": "markdown",
   "id": "a17a54ae-f081-4fa9-a6da-c794b8fbc43f",
   "metadata": {},
   "source": [
    "### Q1: What are the Probability Mass Function (PMF) and Probability Density Function (PDF)? Explain with an example.\n",
    "\n",
    "**Probability Mass Function (PMF)**:\n",
    "- The PMF is used for discrete random variables. It gives the probability that a discrete random variable is exactly equal to some value.\n",
    "- **Example**: For a fair six-sided die, the PMF \\( P(X = k) \\) is \\( \\frac{1}{6} \\) for \\( k = 1, 2, 3, 4, 5, 6 \\), where \\( X \\) is the outcome of the die roll.\n",
    "\n",
    "**Probability Density Function (PDF)**:\n",
    "- The PDF is used for continuous random variables. It describes the likelihood of the random variable taking on a specific value, but the probability is found over an interval rather than a single point.\n",
    "- **Example**: For a normal distribution with mean \\( \\mu \\) and standard deviation \\( \\sigma \\), the PDF is given by:\n",
    "  \\[\n",
    "  f(x) = \\frac{1}{\\sigma \\sqrt{2\\pi}} e^{-\\frac{(x - \\mu)^2}{2\\sigma^2}}\n",
    "  \\]\n",
    "  where \\( x \\) is a value in the continuous range."
   ]
  },
  {
   "cell_type": "markdown",
   "id": "d8bcdd4d-9fee-44aa-8525-9fb2ededd244",
   "metadata": {},
   "source": []
  },
  {
   "cell_type": "markdown",
   "id": "4408f9aa-115f-4708-b929-3a9b709394f2",
   "metadata": {},
   "source": [
    "### Q2: What is Cumulative Density Function (CDF)? Explain with an example. Why CDF is used?\n",
    "\n",
    "**Cumulative Density Function (CDF)**:\n",
    "- The CDF is used for both discrete and continuous random variables. It gives the probability that the random variable takes on a value less than or equal to a specific value.\n",
    "- **Example**: For a normal distribution with mean \\( \\mu \\) and standard deviation \\( \\sigma \\), the CDF \\( F(x) \\) is:\n",
    "  \\[\n",
    "  F(x) = \\int_{-\\infty}^x f(t) \\, dt\n",
    "  \\]\n",
    "  where \\( f(t) \\) is the PDF.\n",
    "\n",
    "**Why CDF is used**:\n",
    "- The CDF is useful for finding the probability that a random variable falls within a certain range and for understanding the distribution's behavior over intervals."
   ]
  },
  {
   "cell_type": "markdown",
   "id": "222865e8-2f1d-4c42-8ea1-2765eae25d5b",
   "metadata": {},
   "source": []
  },
  {
   "cell_type": "markdown",
   "id": "e656731d-fea1-44e5-a5ec-5fdb258348aa",
   "metadata": {},
   "source": [
    "### Q3: What are some examples of situations where the normal distribution might be used as a model? Explain how the parameters of the normal distribution relate to the shape of the distribution.\n",
    "\n",
    "**Examples**:\n",
    "- **Heights of individuals**: Heights of people in a given population tend to follow a normal distribution.\n",
    "- **Test scores**: Scores on standardized tests often approximate a normal distribution.\n",
    "- **Measurement errors**: Errors in measurements from instruments can follow a normal distribution.\n",
    "\n",
    "**Parameters**:\n",
    "- **Mean (\\(\\mu\\))**: Determines the center of the distribution (the peak of the bell curve).\n",
    "- **Standard Deviation (\\(\\sigma\\))**: Determines the spread of the distribution. A larger \\(\\sigma\\) results in a wider, flatter curve, while a smaller \\(\\sigma\\) results in a narrower, taller curve."
   ]
  },
  {
   "cell_type": "markdown",
   "id": "687717ea-4910-40ac-b1b6-2e1e0b08be7a",
   "metadata": {},
   "source": []
  },
  {
   "cell_type": "markdown",
   "id": "be246504-122d-41b3-8091-3ff5a9124da0",
   "metadata": {},
   "source": [
    "### Q4: Explain the importance of Normal Distribution. Give a few real-life examples of Normal Distribution.\n",
    "\n",
    "**Importance**:\n",
    "- The normal distribution is fundamental in statistics because many real-world phenomena are approximately normally distributed. It is also the basis for many statistical tests and methods.\n",
    "\n",
    "**Examples**:\n",
    "- **IQ Scores**: IQ scores are designed to be normally distributed with a mean of 100 and a standard deviation of 15.\n",
    "- **Blood Pressure**: Blood pressure readings in a large population often follow a normal distribution.\n",
    "- **Stock Market Returns**: Daily returns of stock prices can approximate a normal distribution."
   ]
  },
  {
   "cell_type": "markdown",
   "id": "d9f1c153-efff-4823-884e-8e79d961956b",
   "metadata": {},
   "source": []
  },
  {
   "cell_type": "markdown",
   "id": "59658d25-12e3-4754-988d-8733e426899b",
   "metadata": {},
   "source": [
    "### Q5: What is Bernoulli Distribution? Give an Example. What is the difference between Bernoulli Distribution and Binomial Distribution?\n",
    "\n",
    "**Bernoulli Distribution**:\n",
    "- A Bernoulli distribution is a discrete distribution of a random variable which takes the value 1 with probability \\( p \\) and 0 with probability \\( 1 - p \\).\n",
    "- **Example**: Flipping a fair coin where heads (1) occurs with probability \\( p = 0.5 \\) and tails (0) occurs with probability \\( 1 - p = 0.5 \\).\n",
    "\n",
    "**Difference**:\n",
    "- **Bernoulli Distribution**: Models a single trial with two possible outcomes (success or failure).\n",
    "- **Binomial Distribution**: Models multiple trials, each with the same probability of success, and counts the number of successes in those trials."
   ]
  },
  {
   "cell_type": "markdown",
   "id": "a94e7918-0048-4972-8c3c-c7aa20eb4773",
   "metadata": {},
   "source": []
  },
  {
   "cell_type": "markdown",
   "id": "a216e7dd-3325-47ff-b9cb-67dfc2598a84",
   "metadata": {},
   "source": [
    "## Q6: Consider a dataset with a mean of 50 and a standard deviation of 10. If we assume that the dataset is normally distributed, what is the probability that a randomly selected observation will be greater than 60? Use the appropriate formula and show your calculations.\n",
    "\n",
    "1. **Convert to z-score**:\n",
    "   \\[\n",
    "   Z = \\frac{X - \\mu}{\\sigma} = \\frac{60 - 50}{10} = 1\n",
    "   \\]\n",
    "\n",
    "2. **Find the probability using the Z-table**:\n",
    "   - For \\( Z = 1 \\), the cumulative probability \\( P(Z \\leq 1) \\approx 0.8413 \\).\n",
    "   - Thus, \\( P(X > 60) = 1 - P(Z \\leq 1) = 1 - 0.8413 = 0.1587 \\).\n",
    "\n",
    "**Probability**: Approximately 0.1587 or 15.87%."
   ]
  },
  {
   "cell_type": "markdown",
   "id": "51a66bae-46c6-4e20-962f-25470fa932d9",
   "metadata": {},
   "source": []
  },
  {
   "cell_type": "markdown",
   "id": "f08e7e7e-ad37-451a-b3d2-3e627d909ae9",
   "metadata": {},
   "source": [
    "### Q7: Explain Uniform Distribution with an example.\n",
    "\n",
    "**Uniform Distribution**:\n",
    "- A uniform distribution is a type of distribution in which all outcomes are equally likely. It is defined for both discrete and continuous random variables.\n",
    "- **Example (Discrete)**: Rolling a fair six-sided die, where each face (1 through 6) has an equal probability of \\( \\frac{1}{6} \\).\n",
    "- **Example (Continuous)**: A continuous uniform distribution between 0 and 1, where the probability density function is \\( f(x) = 1 \\) for \\( 0 \\leq x \\leq 1 \\)."
   ]
  },
  {
   "cell_type": "markdown",
   "id": "2055b4fe-b588-4b40-9128-169f0790c5f6",
   "metadata": {},
   "source": []
  },
  {
   "cell_type": "markdown",
   "id": "4b11d606-577a-4c65-93fa-413314f5aa54",
   "metadata": {},
   "source": [
    "### Q8: What is the z-score? State the importance of the z-score.\n",
    "\n",
    "**Z-score**:\n",
    "- The z-score measures the number of standard deviations a data point is from the mean. It is calculated as:\n",
    "  \\[\n",
    "  Z = \\frac{X - \\mu}{\\sigma}\n",
    "  \\]\n",
    "\n",
    "**Importance**:\n",
    "- The z-score standardizes scores on different scales, allowing comparison across different distributions.\n",
    "- It helps identify outliers and is used in various statistical tests and confidence interval calculations."
   ]
  },
  {
   "cell_type": "markdown",
   "id": "eb6260b8-736a-438f-9924-746a3b019d20",
   "metadata": {},
   "source": []
  },
  {
   "cell_type": "markdown",
   "id": "3525ee39-d146-453c-8171-3e39a22f2be2",
   "metadata": {},
   "source": [
    "### Q9: What is Central Limit Theorem? State the significance of the Central Limit Theorem.\n",
    "\n",
    "**Central Limit Theorem (CLT)**:\n",
    "- The CLT states that the distribution of the sample mean approaches a normal distribution as the sample size becomes large, regardless of the original distribution of the data.\n",
    "  \n",
    "**Significance**:\n",
    "- The CLT justifies the use of the normal distribution in inferential statistics for sample means.\n",
    "- It allows for the application of statistical methods and hypothesis testing even when the underlying data distribution is not normal."
   ]
  },
  {
   "cell_type": "markdown",
   "id": "8b400fe7-c0e2-4672-bf75-8e1ceae48ce8",
   "metadata": {},
   "source": []
  },
  {
   "cell_type": "markdown",
   "id": "54771f7c-f0bc-4627-93bf-b466944deeea",
   "metadata": {},
   "source": [
    "### Q10: State the assumptions of the Central Limit Theorem.\n",
    "\n",
    "**Assumptions**:\n",
    "1. **Independence**: The samples must be independent of each other.\n",
    "2. **Sample Size**: The sample size should be sufficiently large. Typically, a sample size of \\( n \\geq 30 \\) is considered large enough.\n",
    "3. **Random Sampling**: The samples must be drawn randomly from the population."
   ]
  },
  {
   "cell_type": "markdown",
   "id": "b05b8038-3cd5-44eb-aefb-29ab501c42c9",
   "metadata": {},
   "source": []
  }
 ],
 "metadata": {
  "kernelspec": {
   "display_name": "Python 3 (ipykernel)",
   "language": "python",
   "name": "python3"
  },
  "language_info": {
   "codemirror_mode": {
    "name": "ipython",
    "version": 3
   },
   "file_extension": ".py",
   "mimetype": "text/x-python",
   "name": "python",
   "nbconvert_exporter": "python",
   "pygments_lexer": "ipython3",
   "version": "3.12.5"
  }
 },
 "nbformat": 4,
 "nbformat_minor": 5
}
